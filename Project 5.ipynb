{
 "cells": [
  {
   "cell_type": "markdown",
   "metadata": {},
   "source": [
    "Name: Yiğit Özgümüş\n",
    "\n",
    "I hereby declare that I observed the honour code of the university when preparing the homework."
   ]
  },
  {
   "cell_type": "code",
   "execution_count": 1,
   "metadata": {
    "collapsed": true
   },
   "outputs": [],
   "source": [
    "import numpy as np\n",
    "import matplotlib.pyplot as plt\n",
    "import pandas as pd\n",
    "import seaborn as sns\n",
    "from IPython.display import display, Math, Latex\n",
    "%matplotlib inline\n",
    "from IPython.core.interactiveshell import InteractiveShell\n",
    "#InteractiveShell.ast_node_interactivity = \"last_expr\""
   ]
  },
  {
   "cell_type": "markdown",
   "metadata": {},
   "source": [
    "# Part 1"
   ]
  },
  {
   "cell_type": "markdown",
   "metadata": {},
   "source": [
    " We are given a model such that, \n",
    " \n",
    " \\begin{eqnarray}\n",
    "A & \\sim & \\mathcal{N}(A;0,1.2) \\\\\n",
    "R & \\sim & \\mathcal{IG}(R;0.4,250) \\\\\n",
    "x_k | x_{k-1},A,R & \\sim & \\mathcal{N}(x_k;Ax_{k-1},R)\\\\\n",
    "x_0 = 1 &, & x_1 = -6\n",
    "\\end{eqnarray}\n",
    "\n",
    "### 1-) Draw the directed graphical model and the factor graph\n",
    "\n",
    "* Proposed directed graphical model of the given model is: \n",
    "\n",
    "<img src=\"dag1.png\">\n",
    "\n",
    "* Proposed factor graph model of the given model is : \n",
    "\n",
    "<img src=\"factor1.png\">"
   ]
  },
  {
   "cell_type": "markdown",
   "metadata": {},
   "source": [
    "### 2-) Write the expression for the full joint distribution and assign terms to the individual factors on the factor graph\n",
    "\n",
    "* If we consider the version of the model with K = 2 to easily show all factor term assignments\n",
    "\n",
    "* Step 1: * Write down the log of the full joint (unnormalised) posterior $log \\phi = p(A, R, x_1=\\hat{x}_1 | x_0=\\hat{x}_0)$\n",
    "\n",
    "\\begin{eqnarray}\n",
    "\\phi & = & p(A, R, x_1=\\hat{x}_1 | x_0=\\hat{x}_0) \\propto p(x_1 | x_0, A, R) p(A) p(R) \\\\\n",
    "& = &  N(x_1; Ax_0, R) N(A; 0, P) IG(R, v, v/\\beta) \\\\\n",
    "& \\propto & exp\\left( -\\frac{1}{2} \\frac{x_1^2}{R} + x_0 x_1 \\frac{A}{R} - \\frac{1}{2} \\frac{x_0^2 A^2}{R} - \\frac{1}{2} log 2\\pi R \\right) \\\\\n",
    "& & exp\\left( -\\frac{1}{2} \\frac{A^2}{P} - \\frac{1}{2} log|2 \\pi P| \\right) \\\\\n",
    "& & exp\\left( -(v+1) logR - \\frac{v}{\\beta} \\frac{1}{R} - log \\Gamma(v) + v log(v/\\beta) \\right)\n",
    "\\end{eqnarray}\n",
    "\n",
    "\n",
    "* Step 2: * Assign each term of $log \\phi$ to individual factors\n",
    "\n",
    "\\begin{eqnarray}\n",
    "log \\phi & = & -\\frac{1}{2} \\frac{x_1^2}{R} + x_0 x_1 \\frac{A}{R} - \\frac{1}{2} \\frac{x_0^2 A^2}{R} - \\frac{1}{2} log 2\\pi R -\\frac{1}{2} \\frac{A^2}{P} - \\frac{1}{2} log|2 \\pi P| -(v+1) logR - \\frac{v}{\\beta} \\frac{1}{R} - log \\Gamma(v) + v log(v/\\beta) \\\\\n",
    "& = & -\\frac{1}{2} \\frac{x_1^2}{R} + x_0 x_1 \\frac{A}{R} - \\frac{1}{2} \\frac{x_0^2 A^2}{R} - \\frac{1}{2} logR - \\frac{1}{2} \\frac{A^2}{P} -(v+1) logR - \\frac{v}{\\beta} \\frac{1}{R} + C\n",
    "\\end{eqnarray}\n",
    "\n",
    "\n",
    "\n",
    "* For f1:\n",
    "\n",
    "$$ \\frac{-1}{2}\\frac{A^2}{P}$$\n",
    "\n",
    "* For f2:\n",
    "\n",
    "$$ -(v + 1 + \\frac{1}{2}) \\log{R}- (\\frac{v}{\\beta} + \\frac{1}{2}x_1^2)\\frac{1}{R}$$\n",
    "\n",
    "* For f3:\n",
    "\n",
    "$$ x_0x_1 \\frac{A}{R} - \\frac{1}{2}\\frac{x_0^2 A^2}{R}$$\n",
    "\n",
    "<img style=\"float: left; width: 400px\" src=\"dag2.png\">\n",
    "<img style=\"float: right; width: 400px\" src=\"factor2.png\">\n",
    "\n"
   ]
  },
  {
   "cell_type": "code",
   "execution_count": null,
   "metadata": {
    "collapsed": true
   },
   "outputs": [],
   "source": []
  },
  {
   "cell_type": "markdown",
   "metadata": {},
   "source": [
    "## 3-)"
   ]
  },
  {
   "cell_type": "code",
   "execution_count": null,
   "metadata": {
    "collapsed": true
   },
   "outputs": [],
   "source": []
  },
  {
   "cell_type": "markdown",
   "metadata": {},
   "source": [
    "## 4-)"
   ]
  },
  {
   "cell_type": "code",
   "execution_count": null,
   "metadata": {
    "collapsed": true
   },
   "outputs": [],
   "source": []
  }
 ],
 "metadata": {
  "hide_input": false,
  "kernelspec": {
   "display_name": "Python 3",
   "language": "python",
   "name": "python3"
  },
  "language_info": {
   "codemirror_mode": {
    "name": "ipython",
    "version": 2
   },
   "file_extension": ".py",
   "mimetype": "text/x-python",
   "name": "python",
   "nbconvert_exporter": "python",
   "pygments_lexer": "ipython2",
   "version": "2.7.13"
  },
  "latex_envs": {
   "LaTeX_envs_menu_present": true,
   "autocomplete": true,
   "bibliofile": "biblio.bib",
   "cite_by": "apalike",
   "current_citInitial": 1,
   "eqLabelWithNumbers": true,
   "eqNumInitial": 1,
   "hotkeys": {},
   "labels_anchors": false,
   "latex_user_defs": false,
   "report_style_numbering": false,
   "user_envs_cfg": false
  }
 },
 "nbformat": 4,
 "nbformat_minor": 2
}
