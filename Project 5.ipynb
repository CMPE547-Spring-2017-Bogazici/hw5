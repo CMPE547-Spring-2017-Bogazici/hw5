{
 "cells": [
  {
   "cell_type": "markdown",
   "metadata": {},
   "source": [
    "Name: Yiğit Özgümüş\n",
    "\n",
    "I hereby declare that I observed the honour code of the university when preparing the homework."
   ]
  },
  {
   "cell_type": "markdown",
   "metadata": {},
   "source": [
    "# Part 1"
   ]
  },
  {
   "cell_type": "markdown",
   "metadata": {},
   "source": [
    " We are given a model such that, \n",
    " \n",
    " \\begin{eqnarray}\n",
    "A & \\sim & \\mathcal{N}(A;0,1.2) \\\\\n",
    "R & \\sim & \\mathcal{IG}(R;0.4,250) \\\\\n",
    "x_k | x_{k-1},A,R & \\sim & \\mathcal{N}(x_k;Ax_{k-1},R)\\\\\n",
    "x_0 = 1 &, & x_1 = -6\n",
    "\\end{eqnarray}\n",
    "\n",
    "## 1-) Draw the directed graphical model and the factor graph\n",
    "\n",
    "* Proposed directed graphical model of the given model is: \n",
    "\n",
    "<img src=\"dag1.png\">\n",
    "\n",
    "* Proposed factor graph model of the given model is : \n",
    "\n",
    "<img src=\"factor1.png\">"
   ]
  },
  {
   "cell_type": "markdown",
   "metadata": {},
   "source": [
    "## 2-) Write the expression for the full joint distribution and assign terms to the individual factors on the factor graph\n",
    "\n",
    "* If we consider the version of the model with K = 2 to easily show all factor term assignments\n",
    "\n",
    "** Step 1:  Write down the log of the full joint (unnormalised) posterior $log \\phi = p(A, R, x_1=\\hat{x}_1 | x_0=\\hat{x}_0)$ **\n",
    "\n",
    "Given that $P=1.2, \\nu=0.4, \\beta=100$\n",
    "\n",
    "\\begin{eqnarray}\n",
    "\\phi & = & p(A, R, x_1=\\hat{x}_1 | x_0=\\hat{x}_0) \\propto p(x_1 | x_0, A, R) p(A) p(R) \\\\[10pt]\n",
    "& = &  N(x_1; Ax_0, R) N(A; 0, P) IG(R, \\nu, \\beta/\\nu) \\\\[10pt]\n",
    "& \\propto & exp\\left( -\\frac{1}{2} \\frac{x_1^2}{R} + x_0 x_1 \\frac{A}{R} - \\frac{1}{2} \\frac{x_0^2 A^2}{R} - \\frac{1}{2} log 2\\pi R \\right) \\\\[10pt]\n",
    "& & exp\\left( -\\frac{1}{2} \\frac{A^2}{P} - \\frac{1}{2} log|2 \\pi P| \\right) \\\\[10pt]\n",
    "& & exp\\left( -(\\nu+1) logR - \\frac{\\nu}{\\beta} \\frac{1}{R} - log \\Gamma(\\nu) + \\nu log(\\beta/\\nu) \\right)\n",
    "\\end{eqnarray}\n",
    "\n",
    "\n",
    "** Step 2:  Assign each term of $log \\phi$ to individual factors **\n",
    "\n",
    "\\begin{eqnarray}\n",
    "log \\phi & = & -\\frac{1}{2} \\frac{x_1^2}{R} + x_0 x_1 \\frac{A}{R} - \\frac{1}{2} \\frac{x_0^2 A^2}{R} - \\frac{1}{2} log 2\\pi R -\\frac{1}{2} \\frac{A^2}{P} - \\frac{1}{2} log|2 \\pi P| -(\\nu+1) logR - \\frac{\\beta}{\\nu} \\frac{1}{R} - log \\Gamma(\\nu) + \\nu log(\\nu/\\beta) \\\\[10pt]\n",
    "& = & -\\frac{1}{2} \\frac{x_1^2}{R} + x_0 x_1 \\frac{A}{R} - \\frac{1}{2} \\frac{x_0^2 A^2}{R} - \\frac{1}{2} logR - \\frac{1}{2} \\frac{A^2}{P} -(\\nu+1) logR - \\frac{\\nu}{\\beta} \\frac{1}{R} + C\n",
    "\\end{eqnarray}\n",
    "\n",
    "\n",
    "If we eliminate the constants and seperate the factors from the main derivation: \n",
    "\n",
    "* For factor f1 :\n",
    "\n",
    "\\begin{eqnarray}\n",
    "\\log \\phi_A & = & \\frac{-1}{2}\\frac{A^2}{P} \\\\[10pt]\n",
    "\\phi_A & = &  exp(\\frac{-1}{2}\\frac{A^2}{P} )\n",
    "\\end{eqnarray}\n",
    "\n",
    "* For factor f2 :\n",
    "\n",
    "\\begin{eqnarray}\n",
    "\\log \\phi_R & = & -(v + 1 + \\frac{1}{2}) \\log{R}- (\\frac{v}{\\beta} + \\frac{1}{2}x_1^2)\\frac{1}{R} \\\\[10pt]\n",
    "\\phi_R & = &  exp( -(v + 1 + \\frac{1}{2}) \\log{R}- (\\frac{v}{\\beta} + \\frac{1}{2}x_1^2)\\frac{1}{R} )\n",
    "\\end{eqnarray}\n",
    "\n",
    "* For factor f3:\n",
    "\n",
    "\\begin{eqnarray}\n",
    "\\log \\phi_{x_{01}} & = & x_0x_1 \\frac{A}{R} - \\frac{1}{2}\\frac{x_0^2 A^2}{R} \\\\[10pt]\n",
    "\\phi_{x_{01}} & = &  exp( x_0x_1 \\frac{A}{R} - \\frac{1}{2}\\frac{x_0^2 A^2}{R} )\n",
    "\\end{eqnarray}\n",
    "\n",
    "\n",
    "<img style=\"float: left; width: 400px\" src=\"dag2.png\">\n",
    "<img style=\"float: right; width: 400px\" src=\"factor3.jpeg\">\n",
    "\n"
   ]
  },
  {
   "cell_type": "markdown",
   "metadata": {},
   "source": [
    "### 3-) Derive the full conditional distributions $p(A|R,x0,x1)$ and $p(R|A,x0,x1)$\n",
    "\n",
    "* For the first example, since R is given information, there isn't any additional information we can gain from the factor $\\phi_R$. So we can derive the conditional distribution as the multiplication of the the factors $f1$ and $f3$\n",
    "\n",
    "\\begin{eqnarray}\n",
    "P(A | R,x_0, x_1) & = & exp\\left(\\frac{-1}{2}\\frac{A^2}{P} \\right) * exp\\left( x_0x_1 \\frac{A}{R} - \\frac{1}{2}\\frac{x_0^2 A^2}{R} \\right) \\\\\n",
    "P(A | R,x_0, x_1) & =  & exp\\left(\\frac{-1}{2}\\frac{A^2}{P} + x_0x_1 \\frac{A}{R} - \\frac{1}{2}\\frac{x_0^2 A^2}{R} \\right)\n",
    "\\end{eqnarray}\n",
    "\n",
    "* For the first example, since R is given information, there isn't any additional information we can gain from the factor $\\phi_R$. So we can derive the conditional distribution as the multiplication of the the factors $f2$ and $f3$\n",
    "\n",
    "\\begin{eqnarray}\n",
    "P(A | R,x_0, x_1) & = & exp\\left( -(v + 1 + \\frac{1}{2}) \\log{R}- (\\frac{v}{\\beta} + \\frac{1}{2}x_1^2)\\frac{1}{R} \\right) * exp\\left( x_0x_1 \\frac{A}{R} - \\frac{1}{2}\\frac{x_0^2 A^2}{R} \\right)\\\\\n",
    "P(A | R,x_0, x_1) & = & exp\\left( -(v + 1 + \\frac{1}{2}) \\log{R}- (\\frac{v}{\\beta} + \\frac{1}{2}x_1^2)\\frac{1}{R} ) + x_0x_1 \\frac{A}{R} - \\frac{1}{2}\\frac{x_0^2 A^2}{R}\\right)\n",
    "\\end{eqnarray}"
   ]
  },
  {
   "cell_type": "markdown",
   "metadata": {},
   "source": [
    "### 4-) Derive the joint distribution $ p(A, R, x0 = 1, x1 = −6)$ and create a contour plot."
   ]
  },
  {
   "cell_type": "markdown",
   "metadata": {
    "collapsed": true
   },
   "source": [
    "* First we need to extract our $P$, $\\nu$ and $\\beta$. Our values are: \n",
    "$ P = 1,2$, $\\nu = 0.4$ and $\\beta = 100$\n",
    "\n",
    "* Secondly, since we found our joint distribution in part 2, we can write that\n",
    "\n",
    "\\begin{eqnarray}\n",
    "p(A, R, x_1=-6 , x_0=0)& \\propto &p(x_1 | x_0, A, R) p(A) p(R)\\\\[10pt]\n",
    "& = &  N(x_1; Ax_0, R) N(A; 0, P) IG(R, \\nu, \\nu/\\beta) \\\\[10pt]\n",
    "& \\propto & exp\\left( -\\frac{1}{2} \\frac{x_1^2}{R} + x_0 x_1 \\frac{A}{R} - \\frac{1}{2} \\frac{x_0^2 A^2}{R} - \\frac{1}{2} log 2\\pi R \\right) \\\\[10pt]\n",
    "& & exp\\left( -\\frac{1}{2} \\frac{A^2}{P} - \\frac{1}{2} log|2 \\pi P| \\right) \\\\[10pt]\n",
    "& & exp\\left( -(\\nu+1) logR - \\frac{\\nu}{\\beta} \\frac{1}{R} - log \\Gamma(\\nu) + \\nu log(\\beta/\\nu) \\right)\\\\[10pt]\n",
    "& \\propto & exp\\left( -\\frac{18}{R} + - \\frac{6A}{R} -  \\frac{A^2}{2R} - \\frac{1}{2} log 2\\pi R \\right) \\\\[10pt]\n",
    "& & exp\\left( - \\frac{A^2}{2.4} - \\frac{1}{2} log|2.4\\pi | \\right) \\\\[10pt]\n",
    "& & exp\\left( -(1.4) logR - \\frac{250}{R} - log \\Gamma(0.4) + 0.4 log(250) \\right)\n",
    "\\end{eqnarray}\n",
    "\n",
    "* Lastly we mimic A and R between $(10^-4,10^4)$ and $(-8,6)$ respectively and compute our values using these vectors. You can see the contour plot below"
   ]
  },
  {
   "cell_type": "code",
   "execution_count": 1,
   "metadata": {},
   "outputs": [
    {
     "data": {
      "image/png": "[encoded data removed]",
      "text/plain": [
       "<matplotlib.figure.Figure at 0x10fcdd510>"
      ]
     },
     "metadata": {},
     "output_type": "display_data"
    }
   ],
   "source": [
    "import numpy as np\n",
    "import matplotlib.pyplot as plt\n",
    "import pandas as pd\n",
    "import scipy.special as sps\n",
    "\n",
    "from IPython.display import display, Math, Latex\n",
    "%matplotlib inline\n",
    "from IPython.core.interactiveshell import InteractiveShell\n",
    "#InteractiveShell.ast_node_interactivity = \"last_expr\"\n",
    "\n",
    "P = 1.2\n",
    "nu = 0.4\n",
    "beta = 100\n",
    "x_0 = 1\n",
    "x_1 = -6\n",
    "Z = []\n",
    "\n",
    "A = [-8 + x*(6-(-8))/100. for x in range(100)]\n",
    "R = [0.0001 + x*(0.01-(0.0001))/100. for x in range(100)] + \\\n",
    "    [0.01 + x*(1-(0.01))/100. for x in range(100)] + \\\n",
    "    [1 + x*(100-(1))/100. for x in range(100)] + \\\n",
    "    [100 + x*(10000-(100))/100. for x in range(100)]\n",
    "for r in R:\n",
    "    temp = []\n",
    "    for a in A:\n",
    "        expression = (-0.5*x_1*x_1/r+x_0*x_1*a/r-0.5*x_0*x_0*a*a/r-0.5*np.log(2*np.pi*r))+\\\n",
    "                     (-0.5*a*a/P) +\\\n",
    "                     (-(nu+1)*np.log(r)-nu/(beta*r))\n",
    "        temp.append(np.exp(expression))\n",
    "    Z.append(temp)\n",
    "Z = np.array(Z)\n",
    "CS = plt.contour(A,R,Z,500)\n",
    "plt.yscale('log')\n",
    "plt.show()"
   ]
  },
  {
   "cell_type": "markdown",
   "metadata": {},
   "source": [
    "# Part 2"
   ]
  },
  {
   "cell_type": "markdown",
   "metadata": {},
   "source": [
    " We are given a model such that, \n",
    " \n",
    "\\begin{eqnarray}\n",
    "A & \\sim & \\mathcal{N}(A;0,P) \\\\\n",
    "R & \\sim & \\mathcal{IG}(R;\\nu,\\frac{\\nu}{\\beta}) \\\\\n",
    "x_k | x_{k-1},A,R & \\sim & \\mathcal{N}(x_k;Ax_{k-1},R)\\\\\n",
    "x_0 = 1 &, & x_1 = -6\n",
    "\\end{eqnarray}\n",
    "\n",
    "where $\\mathcal{N}$ is a Gaussian and\n",
    "\n",
    "\\begin{eqnarray}\n",
    "\\mathcal{IG}(R;a,b) & = &  exp\\left( -(a+1) logR - \\frac{b}{R} - log \\Gamma(a) + a log(b) \\right)\n",
    "\\end{eqnarray}\n",
    "\n",
    "\\begin{eqnarray}\n",
    "\\nu = 0.4 &\\quad& \\beta = 100 &\\quad& P = 1.2\\\\\n",
    "x_0 = 1 &\\quad & x_1 = -6 & \n",
    "\\end{eqnarray}\n",
    "\n"
   ]
  },
  {
   "cell_type": "markdown",
   "metadata": {},
   "source": [
    "### 1-) Derive and implement an EM algorithm to find the MAP estimate $R^* = argmax_R p(R|x_0,x_1,\\theta))$"
   ]
  },
  {
   "cell_type": "markdown",
   "metadata": {},
   "source": [
    "### 2-) Derive and implement an EM algorithm to find the MAP estimate $A^* = argmax_A p(A|x_0,x_1,\\theta))$"
   ]
  },
  {
   "cell_type": "code",
   "execution_count": null,
   "metadata": {
    "collapsed": true
   },
   "outputs": [],
   "source": []
  }
 ],
 "metadata": {
  "hide_input": false,
  "kernelspec": {
   "display_name": "Python 3",
   "language": "python",
   "name": "python3"
  },
  "language_info": {
   "codemirror_mode": {
    "name": "ipython",
    "version": 2
   },
   "file_extension": ".py",
   "mimetype": "text/x-python",
   "name": "python",
   "nbconvert_exporter": "python",
   "pygments_lexer": "ipython2",
   "version": "2.7.13"
  },
  "latex_envs": {
   "LaTeX_envs_menu_present": true,
   "autocomplete": true,
   "bibliofile": "biblio.bib",
   "cite_by": "apalike",
   "current_citInitial": 1,
   "eqLabelWithNumbers": true,
   "eqNumInitial": 1,
   "hotkeys": {},
   "labels_anchors": false,
   "latex_user_defs": false,
   "report_style_numbering": false,
   "user_envs_cfg": false
  }
 },
 "nbformat": 4,
 "nbformat_minor": 2
}
