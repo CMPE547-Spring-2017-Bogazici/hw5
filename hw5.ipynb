{
 "cells": [
  {
   "cell_type": "markdown",
   "metadata": {
    "collapsed": true
   },
   "source": [
    "Name: Burak Suyunu\n",
    "\n",
    "No: 2012400156\n",
    "\n",
    "# Q42: AR Model\n",
    "\n",
    "## Part 1\n",
    "\n",
    "Consider the following model:\n",
    "\n",
    "\\begin{eqnarray}\n",
    "A \\sim & N(A; 0, 1.2) \\\\\n",
    "R \\sim & IG(R; 0.4, 250) \\\\\n",
    "x_k|x_{k-1},A,R \\sim & N(x_k; Ax_{k-1}, R) \\\\\n",
    "x_0 = & 1 \\quad x_1 = -6\n",
    "\\end{eqnarray}\n",
    "\n",
    "### 1. Draw the directed graphical model and  the factor graph"
   ]
  },
  {
   "cell_type": "markdown",
   "metadata": {},
   "source": [
    "##### Directed Graphical Model\n",
    "<img src='DG1.png'>"
   ]
  },
  {
   "cell_type": "markdown",
   "metadata": {},
   "source": [
    "##### Factor Graph\n",
    "<img src='FG1.png'>"
   ]
  },
  {
   "cell_type": "markdown",
   "metadata": {},
   "source": [
    "##### Directed Graphical Model and Factor Graph for AR(1) Model\n",
    "\n",
    "<img src='DGFG.png'>"
   ]
  },
  {
   "cell_type": "markdown",
   "metadata": {},
   "source": [
    "### 2. Write the expression for the full joint distribution and assign terms to the individuals factors on the graph\n",
    "\n",
    "** Step 1: ** Write down the log of the full joint (unnormalised) posterior $log \\phi = p(A, R, x_1=\\hat{x}_1 | x_0=\\hat{x}_0)$\n",
    "\n",
    "$P=1.2, \\nu=0.4, \\beta=100$\n",
    "\n",
    "\\begin{eqnarray}\n",
    "\\phi & = & p(A, R, x_1=\\hat{x}_1 | x_0=\\hat{x}_0) \\propto p(x_1 | x_0, A, R) p(A) p(R) \\\\[7pt]\n",
    "& = &  N(x_1; Ax_0, R) N(A; 0, P) IG(R, \\nu, \\beta/\\nu) \\\\[7pt]\n",
    "& \\propto & exp\\left( -\\frac{1}{2} \\frac{x_1^2}{R} + x_0 x_1 \\frac{A}{R} - \\frac{1}{2} \\frac{x_0^2 A^2}{R} - \\frac{1}{2} log 2\\pi R \\right) \\\\[7pt]\n",
    "& & exp\\left( -\\frac{1}{2} \\frac{A^2}{P} - \\frac{1}{2} log|2 \\pi P| \\right) \\\\[7pt]\n",
    "& & exp\\left( -(\\nu+1) logR - \\frac{\\nu}{\\beta} \\frac{1}{R} - log \\Gamma(\\nu) + \\nu log(\\beta/\\nu) \\right)\n",
    "\\end{eqnarray}\n",
    "\n",
    "\n",
    "** Step 2: ** Assign each term of $log \\phi$ to individual factors\n",
    "\n",
    "\\begin{eqnarray}\n",
    "log \\phi & = & -\\frac{1}{2} \\frac{x_1^2}{R} + x_0 x_1 \\frac{A}{R} - \\frac{1}{2} \\frac{x_0^2 A^2}{R} - \\frac{1}{2} log 2\\pi R -\\frac{1}{2} \\frac{A^2}{P} - \\frac{1}{2} log|2 \\pi P| -(\\nu+1) logR - \\frac{\\nu}{\\beta} \\frac{1}{R} - log \\Gamma(\\nu) + \\nu log(\\beta/\\nu) \\\\[7pt]\n",
    "& = & -\\frac{1}{2} \\frac{x_1^2}{R} + x_0 x_1 \\frac{A}{R} - \\frac{1}{2} \\frac{x_0^2 A^2}{R} - \\frac{1}{2} logR - \\frac{1}{2} \\frac{A^2}{P} -(\\nu+1) logR - \\frac{\\nu}{\\beta} \\frac{1}{R} + C\n",
    "\\end{eqnarray}\n",
    "\n",
    "Assignment of the factors:\n",
    "\n",
    "\\begin{eqnarray}\n",
    "log\\phi_A & = & -\\frac{1}{2}\\frac{A^2}{P} \\\\\n",
    "log\\phi_R & = &-(\\nu+1+1/2)logR-(\\frac{\\nu}{\\beta}+\\frac{1}{2}x_1^2)\\frac{1}{R} \\\\\n",
    "log\\phi_{x_{01}} & = & x_0x_1\\frac{A}{R}-\\frac{1}{2}\\frac{x_0^2A^2}{R}\n",
    "\\end{eqnarray}\n",
    "\n",
    "\n",
    "\\\\\n",
    "\n",
    "<img src='FG2.png' style='width:800px'>\n"
   ]
  },
  {
   "cell_type": "markdown",
   "metadata": {},
   "source": [
    "### 3. Derive the full conditional distributions $p(A|R,x_0,x_1)$ and $p(R|A,x_0,x_1)$\n",
    "\n",
    "We can derive the full conditional distributions directly from the factor graph.\n",
    "\n",
    "For $p(A|R,x_0,x_1)$ because R is given we can directly derive it from $\\phi_A and \\phi_{x_{01}}$\n",
    "\n",
    "\\begin{eqnarray}\n",
    "p(A|R,x_0,x_1) & = & \\phi_A \\phi_{x_{01}} & = & exp\\left(-\\frac{1}{2}\\frac{A^2}{P} + x_0x_1\\frac{A}{R}-\\frac{1}{2}\\frac{x_0^2A^2}{R}\\right)\n",
    "\\end{eqnarray}\n",
    "\n",
    "\n",
    "For $p(R|A,x_0,x_1)$ because A is given we can directly derive it from $\\phi_R and \\phi_{x_{01}}$\n",
    "\n",
    "\\begin{eqnarray}\n",
    "p(R|A,x_0,x_1) & = & \\phi_R \\phi_{x_{01}} & = & exp\\left(-(\\nu+1+1/2)logR-(\\frac{\\nu}{\\beta}+\\frac{1}{2}x_1^2)\\frac{1}{R} + x_0x_1\\frac{A}{R}-\\frac{1}{2}\\frac{x_0^2A^2}{R}\\right)\n",
    "\\end{eqnarray}"
   ]
  },
  {
   "cell_type": "markdown",
   "metadata": {},
   "source": [
    "### 4. Derive the joint distribution $p(A,R,x_0=1, x_1=-6)$ and create a contour plot.\n",
    "\n",
    "We have already derived the full joint distribution, so we only need to put the values of $x_0$ and $x_1$ in the derivation.\n",
    "\n",
    "$P=1.2, \\nu=0.4, \\beta=0.0016$\n",
    "\n",
    "\\begin{eqnarray}\n",
    "p(A,R,x_0=1, x_1=-6) & \\propto & N(x_1; Ax_0, R) N(A; 0, P) IG(R, \\nu, \\nu/\\beta) \\\\[7pt]\n",
    "& = & exp\\left( -\\frac{1}{2} \\frac{x_1^2}{R} + x_0 x_1 \\frac{A}{R} - \\frac{1}{2} \\frac{x_0^2 A^2}{R} - \\frac{1}{2} log 2\\pi R \\right) \\\\[7pt]\n",
    "& & exp\\left( -\\frac{1}{2} \\frac{A^2}{P}\\right) \\\\[7pt]\n",
    "& & exp\\left( -(\\nu+1) logR - \\frac{\\nu}{\\beta} \\frac{1}{R}\\right) \\\\[7pt]\n",
    "& = & exp\\left( -\\frac{18}{R} - 6\\frac{A}{R} - \\frac{1}{2} \\frac{A^2}{R} - \\frac{1}{2} log 2\\pi R \\right) \\\\[7pt]\n",
    "& & exp\\left( -\\frac{A^2}{2.4}\\right) \\\\[7pt]\n",
    "& & exp\\left( -(1.4) logR - 250\\frac{1}{R}\\right)\n",
    "\\end{eqnarray}\n",
    "\n"
   ]
  },
  {
   "cell_type": "markdown",
   "metadata": {},
   "source": [
    "Like in lecture notes, we create distributions like A and R between $(-8, 6)$ and $(10^{-4}, 10^4)$ respectively. Then computed to joint distiribution to plot the contour. "
   ]
  },
  {
   "cell_type": "code",
   "execution_count": 187,
   "metadata": {
    "collapsed": false
   },
   "outputs": [],
   "source": [
    "import numpy as np\n",
    "import matplotlib.pyplot as plt\n",
    "import scipy.special as sps\n",
    "\n",
    "from IPython.display import display, Math, Latex\n",
    "%matplotlib inline\n",
    "from IPython.core.interactiveshell import InteractiveShell\n",
    "#InteractiveShell.ast_node_interactivity = \"last_expr\"\n",
    "\n",
    "P = 1.2\n",
    "nu = 0.4\n",
    "beta = 100\n",
    "x_0 = 1\n",
    "x_1 = -6\n",
    "Z = []\n",
    "\n",
    "A = [-8 + x*(6-(-8))/100. for x in range(100)]\n",
    "R = [0.0001 + x*(0.01-(0.0001))/100. for x in range(100)] + \\\n",
    "    [0.01 + x*(1-(0.01))/100. for x in range(100)] + \\\n",
    "    [1 + x*(100-(1))/100. for x in range(100)] + \\\n",
    "    [100 + x*(10000-(100))/100. for x in range(100)]\n",
    "for r in R:\n",
    "    temp = []\n",
    "    for a in A:\n",
    "        expression = (-0.5*x_1*x_1/r+x_0*x_1*a/r-0.5*x_0*x_0*a*a/r-0.5*np.log(2*np.pi*r))+\\\n",
    "                     (-0.5*a*a/P) +\\\n",
    "                     (-(nu+1)*np.log(r)-nu/(beta*r))\n",
    "        temp.append(np.exp(expression))\n",
    "    Z.append(temp)\n",
    "Z = np.array(Z)"
   ]
  },
  {
   "cell_type": "code",
   "execution_count": 188,
   "metadata": {
    "collapsed": false
   },
   "outputs": [
    {
     "data": {
      "image/png": "[encoded data removed]",
      "text/plain": [
       "<matplotlib.figure.Figure at 0x22e80fa6278>"
      ]
     },
     "metadata": {},
     "output_type": "display_data"
    }
   ],
   "source": [
    "plt.figure(figsize=(7,7))\n",
    "CS = plt.contourf(A,R,Z,500)\n",
    "plt.yscale('log')\n",
    "plt.xlabel('A')\n",
    "plt.ylabel('R')\n",
    "plt.show()"
   ]
  },
  {
   "cell_type": "markdown",
   "metadata": {},
   "source": [
    "## Part 2\n",
    "\n",
    "Consider the following model discussed in detail during class\n",
    "\n",
    "\\begin{eqnarray}\n",
    "A \\sim & N(A; 0, P) \\\\[7pt]\n",
    "R \\sim & IG(R; \\nu, \\nu/\\beta) \\\\[7pt]\n",
    "x_k|x_{k-1},A,R \\sim & N(x_k; Ax_{k-1}, R)\n",
    "\\end{eqnarray}\n",
    "\n",
    "where $N$ is a Gaussian and\n",
    "\n",
    "$$\n",
    "IG(R;a,b) = exp\\left(-(a+1)\\ logR - \\frac{b}{R} - log\\Gamma(a) + a\\ logb\\right)\n",
    "$$\n",
    "\n",
    "We are given the hyperparameters $\\theta = (\\nu,\\beta,P)$\n",
    "$$\n",
    "\\nu = 0.4 \\quad \\beta = 100 \\quad P=1.2\\\\[7pt]\n",
    "x_0 = 1 \\quad x_1 = -6\n",
    "$$"
   ]
  },
  {
   "cell_type": "markdown",
   "metadata": {},
   "source": [
    "### Initial Derivations and Sufficient Statistics for 1 and 2\n",
    "\n",
    "All the derivations in 1 and 2 taken from lecture notes and modified accordingly to meet the needs of the questiones.\n",
    "\n",
    "$$\n",
    "Q = q(A)q(R) \\\\[20pt]\n",
    "q(A) = N(A;m,\\Sigma) \\\\[7pt]\n",
    "\\langle A \\rangle = m \\quad \\langle A^2 \\rangle = \\Sigma+m^2 \\quad A^*=m\\\\[15pt]\n",
    "q(R) = IG(R;a,b) \\\\[7pt]\n",
    "\\langle 1/R \\rangle = a/b \\quad \\langle log R \\rangle = log(b) - \\Psi(a) \\quad R^* = b/(a+1)\n",
    "$$\n",
    "\n"
   ]
  },
  {
   "cell_type": "markdown",
   "metadata": {},
   "source": [
    "### 1. Derive and implement an EM algorithm to find the MAP estimate $R^* = argmax_R\\ p(R|x_0,x_1,\\theta)$\n",
    "\n",
    "\n",
    "##### E-Step:\n",
    "\n",
    "\\begin{eqnarray}\n",
    "q(A)^{(\\tau)} & = & exp\\left(log\\phi(A,R=R^{(\\tau-1)})\\right) = p(A|R^{(\\tau-1)}) \\\\[7pt]\n",
    "q(A) & = & N(A;m,\\Sigma) \\propto exp\\left( log\\phi A,R\\right) \\\\[7pt]\n",
    "& = & exp\\left(-\\frac{1}{2}\\frac{A^2}{P} +  x_0x_1\\frac{A}{R}-\\frac{1}{2}\\frac{x_0^2A^2}{R} \\right) \\\\[7pt]\n",
    "& = & exp\\left(-\\frac{1}{2} \\left(\\frac{1}{P} + x_0^2\\frac{1}{R}\\right) A^2 + x_0x_1  \\frac{1}{R}  A \\right) \\\\[15pt]\n",
    "Sufficient \\ Statistics \\\\[7pt]\n",
    "\\Sigma & = & \\left(\\frac{1}{P} + x_0^2 \\frac{1}{R}\\right)^{-1} = \\left(\\frac{1}{P} + x_0^2\\frac{a}{b}\\right)^{-1} \\\\[7pt]\n",
    "m & = & \\Sigma x_0 x_1 \\frac{1}{R} = \\Sigma x_0 x_1 \\frac{a}{b}\n",
    "\\end{eqnarray}\n",
    "\n",
    "##### M-Step:\n",
    "\n",
    "\\begin{eqnarray}\n",
    "R^{(\\tau)} & = & argmax\\left\\langle log\\phi(A,R)\\right\\rangle_{q(A)^{(\\tau)}} \\\\[7pt]\n",
    "& = & -(\\nu+1+1/2) logR - (\\frac{\\nu}{\\beta} + \\frac{1}{2} x_1^2 + \\left\\langle -x_0 x_1 A + \\frac{1}{2} x_0^2 A^2 \\right\\rangle_{q(A)} ) \\frac{1}{R} \\\\[7pt]\n",
    "& = & -(\\nu+1+1/2) logR - (\\frac{\\nu}{\\beta} + \\frac{1}{2} x_1^2 - x_0 x_1 \\langle A \\rangle_{q(A)} + \\frac{1}{2} x_0^2 \\langle A^2\\rangle_{q(A)} ) \\frac{1}{R} \\\\[15pt]\n",
    "Sufficient \\ Statistics \\\\[7pt]\n",
    "a & = & \\nu + 1/2 \\\\[7pt]\n",
    "b & = & \\frac{\\nu}{\\beta} + \\frac{1}{2} x_1^2 - x_0 x_1 \\langle A \\rangle_{q(A)} + \\frac{1}{2} x_0^2 \\langle A^2\\rangle_{q(A)}\\\\[7pt]\n",
    "& = & \\frac{\\nu}{\\beta} + \\frac{1}{2} x_1^2 - x_0 x_1 m + \\frac{1}{2} x_0^2 (m^2 + \\Sigma) \\\\[15pt]\n",
    "\\end{eqnarray}\n",
    "\n",
    "-\n",
    "$$\n",
    "R^* = b/(a+1)\n",
    "$$\n"
   ]
  },
  {
   "cell_type": "code",
   "execution_count": 259,
   "metadata": {
    "collapsed": false
   },
   "outputs": [],
   "source": [
    "nu = 0.4\n",
    "beta = 100\n",
    "P = 1.2\n",
    "x_0 = 1\n",
    "x_1 = -6"
   ]
  },
  {
   "cell_type": "code",
   "execution_count": 260,
   "metadata": {
    "collapsed": false
   },
   "outputs": [
    {
     "name": "stdout",
     "output_type": "stream",
     "text": [
      "Converged in 21 steps for initial R_0 = 0.001\n",
      "R: 0.0029309180959090574\n",
      "\n",
      "Converged in 25 steps for initial R_0 = 10\n",
      "R: 7.245899080340434\n"
     ]
    }
   ],
   "source": [
    "def EM_R(R_0, ITER):\n",
    "    R = R_0\n",
    "    Rprev = R_0\n",
    "    for i in range(1,ITER+1):\n",
    "        E = 1/((1/P) + x_0**2 / R)\n",
    "        m = E * x_0 * x_1 / R\n",
    "        a = nu + 0.5\n",
    "        b = (nu/beta) + 0.5 * x_1**2 - x_0 * x_1 * m + 0.5 * x_0** 2 * (m**2 + E)\n",
    "        R = b / (a+1)\n",
    "        \n",
    "        if np.abs(R-Rprev)<0.0000000000001:\n",
    "            break\n",
    "        if i < ITER:\n",
    "            Rprev = R\n",
    "    if np.abs(R-Rprev)<0.0000000000001:\n",
    "        print(\"Converged in \" + str(i) + \" steps for initial R_0 = \" + str(R_0))\n",
    "    else:\n",
    "        print(\"No convergence in \" + str(i) + \" steps for initial R_0 =  \" + str(R_0))\n",
    "    print(\"R: \" +  str(R))\n",
    "\n",
    "EM_R(0.001, 100)\n",
    "print()\n",
    "EM_R(10, 30)"
   ]
  },
  {
   "cell_type": "markdown",
   "metadata": {},
   "source": [
    "### 2. Derive and implement an EM algorithm to find the MAP estimate $A^* = argmax_A\\ p(A|x_0,x_1,\\theta)$\n",
    "\n",
    "##### E-Step:\n",
    "\n",
    "\\begin{eqnarray}\n",
    "q(R)^{(\\tau)} & = & exp\\left(log\\phi(A=A^{(\\tau),R})\\right) = p(R|A^{(\\tau)}) \\\\[7pt]\n",
    "q(R) & = & IG(R;a,b) \\propto exp\\left( log\\phi(A,R)\\right)\\\\[7pt]\n",
    "& = & exp\\left(-(\\nu+1+1/2) logR - (\\frac{\\nu}{\\beta} + \\frac{1}{2} x_1^2 +  -x_0 x_1 A + \\frac{1}{2} x_0^2 A^2  ) \\frac{1}{R}\\right) \\\\[7pt]\n",
    "& = & exp\\left(-(\\nu+1+1/2) logR - (\\frac{\\nu}{\\beta} + \\frac{1}{2} x_1^2 - x_0 x_1 A  + \\frac{1}{2} x_0^2  A^2 ) \\frac{1}{R}\\right) \\\\[15pt]\n",
    "Sufficient \\ Statistics \\\\[7pt]\n",
    "a & = & \\nu + 1/2 \\\\[7pt]\n",
    "b & = & \\frac{\\nu}{\\beta} + \\frac{1}{2} x_1^2 - x_0 x_1  A  + \\frac{1}{2} x_0^2  A^2\\\\[7pt]\n",
    "& = & \\frac{\\nu}{\\beta} + \\frac{1}{2} x_1^2 - x_0 x_1 m + \\frac{1}{2} x_0^2 (m^2 + \\Sigma) \\\\[15pt]\n",
    "\\end{eqnarray}\n",
    "\n",
    "##### M-Step:\n",
    "\n",
    "\\begin{eqnarray}\n",
    "A^{(\\tau)} & = & argmax\\left\\langle log\\phi(A,R)\\right\\rangle_{q(R)^{(\\tau-1)}} \\\\[7pt]\n",
    "& = & -\\frac{1}{2}\\frac{A^2}{P} + \\left\\langle x_0x_1\\frac{A}{R}-\\frac{1}{2}\\frac{x_0^2A^2}{R} \\right\\rangle_{q(R)} \\\\[7pt]\n",
    "& = & -\\frac{1}{2} \\left(\\frac{1}{P} + x_0^2 \\left\\langle\\frac{1}{R}\\right\\rangle_{q(R)}\\right) A^2 + x_0x_1 \\left\\langle \\frac{1}{R} \\right\\rangle_{q(R)} A  \\\\[15pt]\n",
    "Sufficient \\ Statistics \\\\[7pt]\n",
    "\\Sigma & = & \\left(\\frac{1}{P} + x_0^2 \\left\\langle\\frac{1}{R}\\right\\rangle_{q(R)}\\right)^{-1} = \\left(\\frac{1}{P} + x_0^2\\frac{a}{b}\\right)^{-1} \\\\[7pt]\n",
    "m & = & \\Sigma x_0 x_1 \\left\\langle\\frac{1}{R}\\right\\rangle_{q(R)} = \\Sigma x_0 x_1 \\frac{a}{b}\n",
    "\\end{eqnarray}\n",
    "\n",
    "-\n",
    "$$\n",
    "A^* = m\n",
    "$$\n"
   ]
  },
  {
   "cell_type": "code",
   "execution_count": 255,
   "metadata": {
    "collapsed": false
   },
   "outputs": [
    {
     "name": "stdout",
     "output_type": "stream",
     "text": [
      "Converged in 16 steps for initial A_0 = 0.1\n",
      "A: -0.3845558972418125\n",
      "\n",
      "Converged in 14 steps for initial A_0 = -6\n",
      "A: -5.976313139142629\n"
     ]
    }
   ],
   "source": [
    "def EM_A(A_0, ITER):\n",
    "    A = A_0\n",
    "    Aprev = A_0\n",
    "    for i in range(1,ITER+1):\n",
    "        a = nu + 0.5\n",
    "        b = (nu/beta) + 0.5 * x_1**2 - x_0 * x_1 * A + 0.5 * x_0**2 * A**2\n",
    "        sigma = 1/((1/P) + x_0**2 * a / b)\n",
    "        m = sigma * x_0 * x_1 * a / b\n",
    "        A = m\n",
    "        \n",
    "        if np.abs(A-Aprev)<0.0000000000001:\n",
    "            break\n",
    "        if i < ITER:\n",
    "            Aprev = A\n",
    "    if np.abs(A-Aprev)<0.0000000000001:\n",
    "        print(\"Converged in \" + str(i) + \" steps for initial A_0 = \" + str(A_0))\n",
    "    else:\n",
    "        print(\"No convergence in \" + str(i) + \" steps for initial A_0 =  \" + str(A_0))\n",
    "    print(\"A: \" +  str(A))\n",
    "    \n",
    "EM_A(0.1,50)\n",
    "print()\n",
    "EM_A(-6,100)"
   ]
  },
  {
   "cell_type": "markdown",
   "metadata": {},
   "source": [
    "### 3. Derive and implement an ICM (Iterative conditional modes) algorithm to find\n",
    "\n",
    "$$\n",
    "(R^*,A^*) = argmax_{A,R}\\ p(A,R|x_0,x_1,\\theta)\n",
    "$$\n",
    "\n",
    "This code is converted from AR1 Octave code form Cemgil's notes"
   ]
  },
  {
   "cell_type": "code",
   "execution_count": 194,
   "metadata": {
    "collapsed": false
   },
   "outputs": [
    {
     "data": {
      "image/png": "[encoded data removed]",
      "text/plain": [
       "<matplotlib.figure.Figure at 0x22e80d7cc50>"
      ]
     },
     "metadata": {},
     "output_type": "display_data"
    }
   ],
   "source": [
    "nu = 0.4; beta = 100\n",
    "nu_beta = nu/beta;  P = 1.2; x_0 = 1; x_1 = -6\n",
    "T = 1000\n",
    "R = np.zeros(T)\n",
    "A = np.zeros(T); A[0] = -6; R[0] = 0.00001\n",
    "\n",
    "for t in range(1,T):\n",
    "    Sig = 1/(1/P + x_0**2/R[t-1])\n",
    "    mu = (Sig*x_0*x_1)/R[t-1]\n",
    "    A[t] = np.sqrt(Sig)*np.random.randn() + mu\n",
    "    b = 0.5*(x_1**2 - 2*x_1*x_0*A[t] + x_0**2*A[t]**2) + nu_beta\n",
    "    R[t] = 1/(np.random.gamma(nu+0.5, 1/b))\n",
    "\n",
    "log_R = np.log(R)\n",
    "\n",
    "plt.scatter(A,log_R)\n",
    "plt.xlabel('A')\n",
    "plt.ylabel('R')\n",
    "plt.show()"
   ]
  },
  {
   "cell_type": "markdown",
   "metadata": {},
   "source": [
    "### 4. Extend the VB algorithm given in the slides so that you compute this bound at every iteration and plot the bound B as a function of iterations. You should observe that the VB fixed point monotonically increases this lower bound. Restart your algorithm several times and compare the largest bound you find with the bound you find with importance sampling.\n",
    "\n",
    "we have shown that the unnormalised posterior is\n",
    "\n",
    "\\begin{eqnarray}\n",
    "\\phi & = & p(A, R, x_1=\\hat{x}_1 | x_0=\\hat{x}_0) \\propto p(x_1 | x_0, A, R) p(A) p(R) \\\\[7pt]\n",
    "& = &  N(x_1; Ax_0, R) N(A; 0, P) IG(R, \\nu, \\beta/\\nu) \\\\[7pt]\n",
    "& \\propto & exp\\left( -\\frac{1}{2} \\frac{x_1^2}{R} + x_0 x_1 \\frac{A}{R} - \\frac{1}{2} \\frac{x_0^2 A^2}{R} - \\frac{1}{2} log 2\\pi R \\right) \\\\[7pt]\n",
    "& & exp\\left( -\\frac{1}{2} \\frac{A^2}{P} - \\frac{1}{2} log|2 \\pi P| \\right) \\\\[7pt]\n",
    "& & exp\\left( -(\\nu+1) logR - \\frac{\\nu}{\\beta} \\frac{1}{R} - log \\Gamma(\\nu) + \\nu log(\\beta/\\nu) \\right)\n",
    "\\end{eqnarray}\n",
    "\n",
    "We know also that the marginal log-likelihood\n",
    "\n",
    "\\begin{eqnarray}\n",
    "\\log Z = \\log p(x_1 = \\hat{x_1} |x_0 = \\hat{x_0},\\theta)\n",
    "\\end{eqnarray}\n",
    "\n",
    "is lower bounded by\n",
    "\n",
    "\\begin{eqnarray}\n",
    "\\mathcal{B}_{VB} = \\left[\\log\\phi\\right] + H|Q|\n",
    "\\end{eqnarray}\n",
    "\n",
    "where\n",
    "\n",
    "\\begin{eqnarray}\n",
    "Q & = & q(A)q(B)\\\\[10pt]\n",
    "q(A) & = & \\mathcal{N}(A;m,\\sigma)\\\\[7pt]\n",
    "q(R) & = & \\mathcal{IG}(R;a,b)\n",
    "\\end{eqnarray}"
   ]
  },
  {
   "cell_type": "code",
   "execution_count": 258,
   "metadata": {
    "collapsed": false
   },
   "outputs": [
    {
     "name": "stdout",
     "output_type": "stream",
     "text": [
      "Expected value of A: -0.37043475745932386\n",
      "Expected value of A^2: 1.2631349580420834\n",
      "Expected value of 1/R: 0.05483471954109889\n"
     ]
    }
   ],
   "source": [
    "import matplotlib.pyplot as plt\n",
    "import numpy as np\n",
    "\n",
    "nu = 0.4\n",
    "beta = 100\n",
    "nu_beta = nu/beta\n",
    "\n",
    "P = 1.2\n",
    "x_0 = 1\n",
    "x_1 = -6\n",
    "\n",
    "T = 50 # Number of iterations\n",
    "E_A = -6\n",
    "E_A2 = E_A^2\n",
    "E_invR = 1/0.00001 # Initial Sufficient stats\n",
    "lowerbound = []\n",
    "\n",
    "for t in range(2,T):\n",
    "    # Update q(A)\n",
    "    Sig = 1/(1/P + x_0**2*E_invR)\n",
    "    mu = Sig*x_0*x_1*E_invR\n",
    "    E_A = mu\n",
    "    E_A2 = mu**2 + Sig\n",
    "\n",
    "    # Update q(R)\n",
    "    a = nu+0.5\n",
    "    b = 0.5*(x_1**2 - 2*x_1*x_0*E_A + x_0**2*E_A2) + nu_beta\n",
    "    E_invR = a/b\n",
    "\n",
    "print(\"Expected value of A: \" + str(E_A))\n",
    "print(\"Expected value of A^2: \" + str(E_A2))\n",
    "print(\"Expected value of 1/R: \" + str(E_invR))"
   ]
  }
 ],
 "metadata": {
  "anaconda-cloud": {},
  "kernelspec": {
   "display_name": "Python [conda root]",
   "language": "python",
   "name": "conda-root-py"
  },
  "language_info": {
   "codemirror_mode": {
    "name": "ipython",
    "version": 3
   },
   "file_extension": ".py",
   "mimetype": "text/x-python",
   "name": "python",
   "nbconvert_exporter": "python",
   "pygments_lexer": "ipython3",
   "version": "3.5.2"
  }
 },
 "nbformat": 4,
 "nbformat_minor": 2
}
