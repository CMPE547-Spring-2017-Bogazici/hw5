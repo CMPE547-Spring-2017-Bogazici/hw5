{
 "cells": [
  {
   "cell_type": "markdown",
   "metadata": {
    "collapsed": true
   },
   "source": [
    "# Q42: AR Model\n",
    "\n",
    "## Part 1\n",
    "\n",
    "Consider the following model:\n",
    "\n",
    "\\begin{eqnarray}\n",
    "A \\sim & N(A; 0, 1.2) \\\\\n",
    "R \\sim & IG(R; 0.4, 250) \\\\\n",
    "x_k|x_{k-1},A,R \\sim & N(x_k; Ax_{k-1}, R) \\\\\n",
    "x_0 = & 1 \\quad x_1 = -6\n",
    "\\end{eqnarray}\n",
    "\n",
    "### 1. Draw the directed graphical model and  the factor graph"
   ]
  },
  {
   "cell_type": "markdown",
   "metadata": {},
   "source": [
    "##### Directed Graphical Model\n",
    "<img src='graphs/DG1.png'>"
   ]
  },
  {
   "cell_type": "markdown",
   "metadata": {},
   "source": [
    "##### Factor Graph\n",
    "<img src='graphs/FG1.png'>"
   ]
  },
  {
   "cell_type": "markdown",
   "metadata": {},
   "source": [
    "##### Directed Graphical Model and Factor Graph for AR(1) Model\n",
    "\n",
    "<img src='graphs/DGFG.png'>"
   ]
  },
  {
   "cell_type": "markdown",
   "metadata": {},
   "source": [
    "### 2. Write the expression for the full joint distribution and assign terms to the individuals factors on the graph\n",
    "\n",
    "** Step 1: ** Write down the log of the full joint (unnormalised) posterior $log \\phi = p(A, R, x_1=\\hat{x}_1 | x_0=\\hat{x}_0)$\n",
    "\n",
    "$P=1.2, \\nu=0.4, \\beta=0.0016$\n",
    "\n",
    "\\begin{eqnarray}\n",
    "\\phi & = & p(A, R, x_1=\\hat{x}_1 | x_0=\\hat{x}_0) \\propto p(x_1 | x_0, A, R) p(A) p(R) \\\\[7pt]\n",
    "& = &  N(x_1; Ax_0, R) N(A; 0, P) IG(R, \\nu, \\nu/\\beta) \\\\[7pt]\n",
    "& \\propto & exp\\left( -\\frac{1}{2} \\frac{x_1^2}{R} + x_0 x_1 \\frac{A}{R} - \\frac{1}{2} \\frac{x_0^2 A^2}{R} - \\frac{1}{2} log 2\\pi R \\right) \\\\[7pt]\n",
    "& & exp\\left( -\\frac{1}{2} \\frac{A^2}{P} - \\frac{1}{2} log|2 \\pi P| \\right) \\\\[7pt]\n",
    "& & exp\\left( -(\\nu+1) logR - \\frac{\\nu}{\\beta} \\frac{1}{R} - log \\Gamma(\\nu) + \\nu log(\\nu/\\beta) \\right)\n",
    "\\end{eqnarray}\n",
    "\n",
    "\n",
    "** Step 2: ** Assign each term of $log \\phi$ to individual factors\n",
    "\n",
    "\\begin{eqnarray}\n",
    "log \\phi & = & -\\frac{1}{2} \\frac{x_1^2}{R} + x_0 x_1 \\frac{A}{R} - \\frac{1}{2} \\frac{x_0^2 A^2}{R} - \\frac{1}{2} log 2\\pi R -\\frac{1}{2} \\frac{A^2}{P} - \\frac{1}{2} log|2 \\pi P| -(\\nu+1) logR - \\frac{\\nu}{\\beta} \\frac{1}{R} - log \\Gamma(\\nu) + \\nu log(\\nu/\\beta) \\\\[7pt]\n",
    "& = & -\\frac{1}{2} \\frac{x_1^2}{R} + x_0 x_1 \\frac{A}{R} - \\frac{1}{2} \\frac{x_0^2 A^2}{R} - \\frac{1}{2} logR - \\frac{1}{2} \\frac{A^2}{P} -(\\nu+1) logR - \\frac{\\nu}{\\beta} \\frac{1}{R} + C\n",
    "\\end{eqnarray}\n",
    "\n",
    "Assignment of the factors:\n",
    "\n",
    "\\begin{eqnarray}\n",
    "log\\phi_A & = & -\\frac{1}{2}\\frac{A^2}{P} \\\\\n",
    "log\\phi_R & = &-(\\nu+1+1/2)logR-(\\frac{\\nu}{\\beta}+\\frac{1}{2}x_1^2)\\frac{1}{R} \\\\\n",
    "log\\phi_{x_{01}} & = & x_0x_1\\frac{A}{R}-\\frac{1}{2}\\frac{x_0^2A^2}{R}\n",
    "\\end{eqnarray}\n",
    "\n",
    "\n",
    "\\\\\n",
    "\n",
    "<img src='graphs/FG2.png' style='width:600px'>\n"
   ]
  },
  {
   "cell_type": "markdown",
   "metadata": {},
   "source": [
    "### 3. Derive the full conditional distributions $p(A|R,x_0,x_1)$ and $p(R|A,x_0,x_1)$\n",
    "\n",
    "We can derive the full conditional distributions directly from the factor graph.\n",
    "\n",
    "For $p(A|R,x_0,x_1)$ because R is given we can directly derive it from $\\phi_A and \\phi_{x_{01}}$\n",
    "\n",
    "\\begin{eqnarray}\n",
    "p(A|R,x_0,x_1) & = & \\phi_A \\phi_{x_{01}} & = & exp\\left(-\\frac{1}{2}\\frac{A^2}{P} + x_0x_1\\frac{A}{R}-\\frac{1}{2}\\frac{x_0^2A^2}{R}\\right)\n",
    "\\end{eqnarray}\n",
    "\n",
    "\n",
    "For $p(R|A,x_0,x_1)$ because A is given we can directly derive it from $\\phi_R and \\phi_{x_{01}}$\n",
    "\n",
    "\\begin{eqnarray}\n",
    "p(R|A,x_0,x_1) & = & \\phi_R \\phi_{x_{01}} & = & exp\\left(-(\\nu+1+1/2)logR-(\\frac{\\nu}{\\beta}+\\frac{1}{2}x_1^2)\\frac{1}{R} + x_0x_1\\frac{A}{R}-\\frac{1}{2}\\frac{x_0^2A^2}{R}\\right)\n",
    "\\end{eqnarray}"
   ]
  },
  {
   "cell_type": "markdown",
   "metadata": {},
   "source": [
    "### 4. Derive the joint distribution $p(A,R,x_0=1, x_1=-6)$ and create a contour plot.\n",
    "\n",
    "We have already derived the full joint distribution, so we only need to put the values of $x_0$ and $x_1$ in the derivation.\n",
    "\n",
    "$P=1.2, \\nu=0.4, \\beta=0.0016$\n",
    "\n",
    "\\begin{eqnarray}\n",
    "p(A,R,x_0=1, x_1=-6) & \\propto & N(x_1; Ax_0, R) N(A; 0, P) IG(R, \\nu, \\nu/\\beta) \\\\[7pt]\n",
    "& = & exp\\left( -\\frac{1}{2} \\frac{x_1^2}{R} + x_0 x_1 \\frac{A}{R} - \\frac{1}{2} \\frac{x_0^2 A^2}{R} - \\frac{1}{2} log 2\\pi R \\right) \\\\[7pt]\n",
    "& & exp\\left( -\\frac{1}{2} \\frac{A^2}{P} - \\frac{1}{2} log|2 \\pi P| \\right) \\\\[7pt]\n",
    "& & exp\\left( -(\\nu+1) logR - \\frac{\\nu}{\\beta} \\frac{1}{R} - log \\Gamma(\\nu) + \\nu log(\\nu/\\beta) \\right) \\\\[7pt]\n",
    "& = & exp\\left( -\\frac{18}{R} - 6\\frac{A}{R} - \\frac{1}{2} \\frac{A^2}{R} - \\frac{1}{2} log 2\\pi R \\right) \\\\[7pt]\n",
    "& & exp\\left( -\\frac{A^2}{2.4} - \\frac{1}{2} log|2.4 \\pi| \\right) \\\\[7pt]\n",
    "& & exp\\left( -(1.4) logR - 250\\frac{1}{R} - log \\Gamma(0.4) + 0.4 log(250) \\right)\n",
    "\\end{eqnarray}\n",
    "\n"
   ]
  },
  {
   "cell_type": "code",
   "execution_count": 37,
   "metadata": {
    "collapsed": false
   },
   "outputs": [
    {
     "name": "stdout",
     "output_type": "stream",
     "text": [
      "-0.3704347574553939\n",
      "0.05483471954102366\n"
     ]
    }
   ],
   "source": [
    "import matplotlib.pyplot as plt\n",
    "import numpy as np\n",
    "\n",
    "nu = 0.4\n",
    "beta = 100\n",
    "nu_beta = nu/beta\n",
    "\n",
    "P = 1.2\n",
    "x_0 = 1\n",
    "x_1 = -6\n",
    "\n",
    "T = 300 # Number of iterations\n",
    "E_A = -6\n",
    "E_A2 = E_A^2\n",
    "E_invR = 1/0.00001 # Initial Sufficient stats\n",
    "\n",
    "A = np.random.normal(0, P, 100)\n",
    "R = nu_beta / np.random.gamma(shape=nu, size = 100)\n",
    "\n",
    "for t in range(2,T):\n",
    "    # Update q(A)\n",
    "    Sig = 1/(1/P + x_0**2*E_invR)\n",
    "    mu = Sig*x_0*x_1*E_invR\n",
    "    E_A = mu\n",
    "    E_A2 = mu**2 + Sig\n",
    "\n",
    "    # Update q(R)\n",
    "    a = nu+0.5\n",
    "    b = 0.5*(x_1**2 - 2*x_1*x_0*E_A + x_0**2*E_A2) + nu_beta\n",
    "    E_invR = a/b\n",
    "\n",
    "print(E_A)\n",
    "print(E_invR)"
   ]
  }
 ],
 "metadata": {
  "anaconda-cloud": {},
  "kernelspec": {
   "display_name": "Python [conda root]",
   "language": "python",
   "name": "conda-root-py"
  },
  "language_info": {
   "codemirror_mode": {
    "name": "ipython",
    "version": 3
   },
   "file_extension": ".py",
   "mimetype": "text/x-python",
   "name": "python",
   "nbconvert_exporter": "python",
   "pygments_lexer": "ipython3",
   "version": "3.5.2"
  }
 },
 "nbformat": 4,
 "nbformat_minor": 2
}
