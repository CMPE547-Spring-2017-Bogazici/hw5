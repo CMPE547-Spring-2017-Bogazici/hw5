{
 "cells": [
  {
   "cell_type": "code",
   "execution_count": 1,
   "metadata": {
    "collapsed": false
   },
   "outputs": [],
   "source": [
    "import numpy as np\n",
    "import matplotlib.pyplot as plt\n",
    "import random\n",
    "import scipy.special as sps"
   ]
  },
  {
   "cell_type": "markdown",
   "metadata": {},
   "source": [
    "# Exercise Booklet - Q42"
   ]
  },
  {
   "cell_type": "markdown",
   "metadata": {},
   "source": [
    "## Part 1"
   ]
  },
  {
   "cell_type": "markdown",
   "metadata": {},
   "source": [
    "## Q1"
   ]
  },
  {
   "cell_type": "markdown",
   "metadata": {
    "collapsed": true
   },
   "source": [
    "### Directed Graphical Model"
   ]
  },
  {
   "cell_type": "markdown",
   "metadata": {},
   "source": [
    "<img src=\"images/DGM.png\">"
   ]
  },
  {
   "cell_type": "markdown",
   "metadata": {},
   "source": [
    "### Factor Graph"
   ]
  },
  {
   "cell_type": "markdown",
   "metadata": {},
   "source": [
    "<img src=\"images/FG.png\">"
   ]
  },
  {
   "cell_type": "markdown",
   "metadata": {},
   "source": [
    "## Q2"
   ]
  },
  {
   "cell_type": "markdown",
   "metadata": {},
   "source": [
    "Let $P=1.2, \\nu=0.4, \\beta=0.0016$"
   ]
  },
  {
   "cell_type": "markdown",
   "metadata": {},
   "source": [
    "$$\\phi = p(A,R,x_1=\\hat{x_1}|x_0=\\hat{x_0}) \\propto p(x_1|x_0,A,R)p(A)p(R) \\\\ = N(x_1;Ax_0,R)N(A;0,P)IG(R;\\nu,\\nu/\\beta)\n",
    "\\\\\n",
    "\\propto exp(-\\frac{1}{2}\\frac{x_1^2}{R}+x_0x_1\\frac{A}{R}-\\frac{1}{2}\\frac{x_0^2A^2}{R}-\\frac{1}{2}log2\\pi R)\\\\\n",
    "exp(-\\frac{1}{2}\\frac{A^2}{P}-\\frac{1}{2}log|2\\pi P|)\\\\\n",
    "exp(-(\\nu+1)logR-\\frac{\\nu}{\\beta}\\frac{1}{R}-log\\Gamma(\\nu)+\\nu log(\\nu / \\beta))\n",
    "$$"
   ]
  },
  {
   "cell_type": "markdown",
   "metadata": {
    "collapsed": true
   },
   "source": [
    "$$log\\phi=-\\frac{1}{2}\\frac{x_1^2}{R}+x_0x_1\\frac{A}{R}-\\frac{1}{2}\\frac{x_0^2A^2}{R}-\\frac{1}{2}log2\\pi R-\\frac{1}{2}\\frac{A^2}{P}-\\frac{1}{2}log|2\\pi P|-(\\nu+1)logR-\\frac{\\nu}{\\beta}\\frac{1}{R}-log\\Gamma(\\nu)+\\nu log(\\nu/\\beta)\\\\\n",
    "=-\\frac{1}{2}\\frac{x_1^2}{R}+x_0x_1\\frac{A}{R}-\\frac{1}{2}\\frac{x_0^2A^2}{R}-\\frac{1}{2}logR-\\frac{1}{2}\\frac{A^2}{P}-(\\nu+1)logR-\\frac{\\nu}{\\beta}\\frac{1}{R}\n",
    "$$"
   ]
  },
  {
   "cell_type": "markdown",
   "metadata": {},
   "source": [
    "$$log\\phi_A=-\\frac{1}{2}\\frac{A^2}{P}\n",
    "\\\\\n",
    "log\\phi_R=-(\\nu+1+1/2)logR-(\\frac{\\nu}{\\beta}+\\frac{1}{2}x_1^2)\\frac{1}{R}\n",
    "\\\\\n",
    "log\\phi_x=x_0x_1\\frac{A}{R}-\\frac{1}{2}\\frac{x_0^2A^2}{R}\n",
    "$$"
   ]
  },
  {
   "cell_type": "markdown",
   "metadata": {},
   "source": [
    "## Q3"
   ]
  },
  {
   "cell_type": "markdown",
   "metadata": {},
   "source": [
    "$$p(A|R,x_0,x_1)\\\\\n",
    "=exp(-\\frac{1}{2}\\frac{A^2}{P}+x_0x_1\\frac{A}{R}-\\frac{1}{2}\\frac{x_0^2A^2}{R})\n",
    "$$"
   ]
  },
  {
   "cell_type": "markdown",
   "metadata": {},
   "source": [
    "$$p(R|A,x_0,x_1)\\\\\n",
    "=exp(-(\\nu+1+1/2)logR-(\\frac{\\nu}{\\beta}+\\frac{1}{2}x_1^2)\\frac{1}{R}+x_0x_1\\frac{A}{R}-\\frac{1}{2}\\frac{x_0^2A^2}{R})\n",
    "$$"
   ]
  },
  {
   "cell_type": "markdown",
   "metadata": {},
   "source": [
    "## Q4"
   ]
  },
  {
   "cell_type": "markdown",
   "metadata": {},
   "source": [
    "$$p(A,R,x_0=1,x_1=-6)\\\\\n",
    "\\propto exp(-\\frac{1}{2}\\frac{(-6)^2}{R}+1*-6\\frac{A}{R}-\\frac{1}{2}\\frac{1^2A^2}{R}-\\frac{1}{2}log2\\pi R)\\\\\n",
    "exp(-\\frac{1}{2}\\frac{A^2}{P}-\\frac{1}{2}log|2\\pi P|)\\\\\n",
    "exp(-(\\nu+1)logR-\\frac{\\nu}{\\beta}\\frac{1}{R}-log\\Gamma(\\nu)+\\nu log(\\nu / \\beta))\\\\\n",
    "=exp(-\\frac{18}{R}-\\frac{6A}{R}-\\frac{A^2}{2R}-\\frac{1}{2}log2\\pi R)\\\\\n",
    "exp(-\\frac{1}{2}\\frac{A^2}{P}-\\frac{1}{2}log|2\\pi P|)\\\\\n",
    "exp(-(\\nu+1)logR-\\frac{\\nu}{\\beta}\\frac{1}{R}-log\\Gamma(\\nu)+\\nu log(\\nu / \\beta))\\\\\n",
    "$$"
   ]
  },
  {
   "cell_type": "code",
   "execution_count": 61,
   "metadata": {
    "collapsed": false
   },
   "outputs": [],
   "source": [
    "P=1.2\n",
    "nu=0.4\n",
    "beta=100\n",
    "x0=1\n",
    "x1=-6\n",
    "Z=[]\n",
    "A = np.linspace(-8,6,100,endpoint=False).tolist()\n",
    "R = np.linspace(0.0001,0.01,100,endpoint=False).tolist()\n",
    "R2 = np.linspace(0.01,1,100,endpoint=False).tolist()\n",
    "R3 = np.linspace(1,100,100,endpoint=False).tolist()\n",
    "R4 = np.linspace(100,10000,100,endpoint=False).tolist()\n",
    "R = R + R2 + R3 + R4\n",
    "for r in R:\n",
    "    newz=[]\n",
    "    for a in A:\n",
    "        k=np.exp(-(x1**2)/(2*r)+x0*x1*a/r-a**2*x0**2/(2*r)-np.log(2*np.pi*r)/2)\n",
    "        l=np.exp(-(a**2)/(2*P)-np.log(2*np.pi*P)/2)\n",
    "        m=np.exp(-(nu+1)*np.log(r)-nu/(beta*r)-np.log(sps.gamma(nu))+nu*np.log(nu/beta))\n",
    "        newz.append(k*l*m)\n",
    "    Z.append(newz)"
   ]
  },
  {
   "cell_type": "code",
   "execution_count": 62,
   "metadata": {
    "collapsed": false
   },
   "outputs": [
    {
     "data": {
      "image/png": "[encoded data removed]",
      "text/plain": [
       "<matplotlib.figure.Figure at 0x11df638d0>"
      ]
     },
     "metadata": {},
     "output_type": "display_data"
    }
   ],
   "source": [
    "Z=np.array(Z)\n",
    "plt.contour(A,R,Z,500)\n",
    "plt.yscale('log')\n",
    "plt.show()"
   ]
  },
  {
   "cell_type": "markdown",
   "metadata": {},
   "source": [
    "## Part 2"
   ]
  },
  {
   "cell_type": "markdown",
   "metadata": {
    "collapsed": true
   },
   "source": [
    "## Q1"
   ]
  },
  {
   "cell_type": "code",
   "execution_count": 63,
   "metadata": {
    "collapsed": true
   },
   "outputs": [],
   "source": [
    "def EM1(R):\n",
    "    P=1.2\n",
    "    x0=1\n",
    "    x1=-6\n",
    "    nu=0.4\n",
    "    beta=100\n",
    "    for i in range(100):\n",
    "        sig=1/(1/P+x0**2/R)\n",
    "        mu=sig*x0*x1/R\n",
    "        \n",
    "        a=nu+0.5\n",
    "        b=nu/beta+x1**2/2-x0*x1*mu+x0**2*(mu**2+sig)/2\n",
    "        \n",
    "        R=b/(a+1)\n",
    "    return R"
   ]
  },
  {
   "cell_type": "code",
   "execution_count": 64,
   "metadata": {
    "collapsed": false
   },
   "outputs": [
    {
     "name": "stdout",
     "output_type": "stream",
     "text": [
      "0.00293091809593\n"
     ]
    }
   ],
   "source": [
    "print EM1(.1)"
   ]
  },
  {
   "cell_type": "markdown",
   "metadata": {},
   "source": [
    "## Q2"
   ]
  },
  {
   "cell_type": "code",
   "execution_count": 65,
   "metadata": {
    "collapsed": true
   },
   "outputs": [],
   "source": [
    "def EM2(A):\n",
    "    P=1.2\n",
    "    x0=1\n",
    "    x1=-6\n",
    "    nu=0.4\n",
    "    beta=100\n",
    "    for i in range(100):\n",
    "        a=nu+0.5\n",
    "        b=nu/beta+x1**2/2-x0*x1*A+x0**2*A**2/2\n",
    "        \n",
    "        sig=1/(1/P+x0**2*a/b)\n",
    "        mu=sig*x0*x1*a/b\n",
    "        \n",
    "        A=mu\n",
    "    return A"
   ]
  },
  {
   "cell_type": "code",
   "execution_count": 66,
   "metadata": {
    "collapsed": false
   },
   "outputs": [
    {
     "name": "stdout",
     "output_type": "stream",
     "text": [
      "-5.97631313914\n"
     ]
    }
   ],
   "source": [
    "print EM2(-7)"
   ]
  },
  {
   "cell_type": "markdown",
   "metadata": {},
   "source": [
    "## Q3"
   ]
  },
  {
   "cell_type": "code",
   "execution_count": 2,
   "metadata": {
    "collapsed": false
   },
   "outputs": [],
   "source": [
    "def EM3(R,A):\n",
    "    P=1.2\n",
    "    x0=1\n",
    "    x1=-6\n",
    "    nu=0.4\n",
    "    beta=100\n",
    "    for i in range(100):\n",
    "        a=nu+0.5\n",
    "        b=nu/beta+x1**2/2-x0*x1*A+x0**2*A**2/2\n",
    "        \n",
    "        R=b/(a+1)\n",
    "        \n",
    "        sig=1/(1/P+x0**2/R)\n",
    "        mu=sig*x0*x1/R\n",
    "        \n",
    "        A=mu\n",
    "    return R,A"
   ]
  },
  {
   "cell_type": "code",
   "execution_count": 3,
   "metadata": {
    "collapsed": false
   },
   "outputs": [
    {
     "name": "stdout",
     "output_type": "stream",
     "text": [
      "(0.0021351492258353828, -5.989343215391994)\n"
     ]
    }
   ],
   "source": [
    "print EM3(.1,-7)"
   ]
  },
  {
   "cell_type": "markdown",
   "metadata": {},
   "source": [
    "## Q4"
   ]
  },
  {
   "cell_type": "code",
   "execution_count": 69,
   "metadata": {
    "collapsed": false
   },
   "outputs": [
    {
     "name": "stdout",
     "output_type": "stream",
     "text": [
      "0.054834719541\n"
     ]
    }
   ],
   "source": [
    "nu=0.4\n",
    "beta=100\n",
    "P=1.2\n",
    "x0=1\n",
    "x1=-6\n",
    "T=300\n",
    "EA=-6\n",
    "EA2=EA^2\n",
    "EinvR=1/0.00001\n",
    "\n",
    "for i in range(1,T+1):\n",
    "    sig=1/(1/P+x0**2*EinvR)\n",
    "    mu=sig*x0*x1*EinvR\n",
    "    \n",
    "    EA=mu\n",
    "    EA2=mu**2+sig\n",
    "    \n",
    "    a=nu+0.5\n",
    "    b=0.5*(x1**2-2*x1*x0*EA+x0**2*EA2)+nu/beta\n",
    "    \n",
    "    EinvR=a/b\n",
    "print EinvR"
   ]
  }
 ],
 "metadata": {
  "kernelspec": {
   "display_name": "Python 2",
   "language": "python",
   "name": "python2"
  },
  "language_info": {
   "codemirror_mode": {
    "name": "ipython",
    "version": 2
   },
   "file_extension": ".py",
   "mimetype": "text/x-python",
   "name": "python",
   "nbconvert_exporter": "python",
   "pygments_lexer": "ipython2",
   "version": "2.7.13"
  }
 },
 "nbformat": 4,
 "nbformat_minor": 2
}
