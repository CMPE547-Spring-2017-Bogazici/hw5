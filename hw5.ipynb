{
 "cells": [
  {
   "cell_type": "markdown",
   "metadata": {
    "collapsed": true
   },
   "source": [
    "# Q42: AR Model\n",
    "\n",
    "## Part 1\n",
    "\n",
    "Consider the following model:\n",
    "\n",
    "\\begin{eqnarray}\n",
    "A \\sim & N(A; 0, 1.2) \\\\\n",
    "R \\sim & IG(R; 0.4, 250) \\\\\n",
    "x_k|x_{k-1},A,R \\sim & N(x_k; Ax_{k-1}, R) \\\\\n",
    "x_0 = & 1 \\quad x_1 = -6\n",
    "\\end{eqnarray}\n",
    "\n",
    "#### 1. Draw the directed graphical model and  the factor graph"
   ]
  },
  {
   "cell_type": "markdown",
   "metadata": {},
   "source": [
    "##### Directed Graphical Model\n",
    "<img src='DG1.png'>"
   ]
  },
  {
   "cell_type": "markdown",
   "metadata": {},
   "source": [
    "##### Factor Graph\n",
    "<img src='FG1.png'>"
   ]
  },
  {
   "cell_type": "markdown",
   "metadata": {},
   "source": [
    "##### Directed Graphical Model and Factor Graph for AR(1) Model\n",
    "\n",
    "<img src='DGFG.png'>"
   ]
  },
  {
   "cell_type": "markdown",
   "metadata": {},
   "source": [
    "#### 2. Write the expression for the full joint distribution and assign terms to the individuals factors on the graph\n",
    "\n",
    "** Step 1: ** Write down the log of the full joint (unnormalised) posterior $log \\phi = p(A, R, x_1=\\hat{x}_1 | x_0=\\hat{x}_0)$\n",
    "\n",
    "\\begin{eqnarray}\n",
    "\\phi & = & p(A, R, x_1=\\hat{x}_1 | x_0=\\hat{x}_0) \\propto p(x_1 | x_0, A, R) p(A) p(R) \\\\\n",
    "& = &  N(x_1; Ax_0, R) N(A; 0, P) IG(R, v, v/\\beta) \\\\\n",
    "& \\propto & exp\\left( -\\frac{1}{2} \\frac{x_1^2}{R} + x_0 x_1 \\frac{A}{R} - \\frac{1}{2} \\frac{x_0^2 A^2}{R} - \\frac{1}{2} log 2\\pi R \\right) \\\\\n",
    "& & exp\\left( -\\frac{1}{2} \\frac{A^2}{P} - \\frac{1}{2} log|2 \\pi P| \\right) \\\\\n",
    "& & exp\\left( -(v+1) logR - \\frac{v}{\\beta} \\frac{1}{R} - log \\Gamma(v) + v log(v/\\beta) \\right)\n",
    "\\end{eqnarray}\n",
    "\n",
    "\n",
    "** Step 2: ** Assign each term of $log \\phi$ to individual factors\n",
    "\n",
    "\\begin{eqnarray}\n",
    "log \\phi & = & -\\frac{1}{2} \\frac{x_1^2}{R} + x_0 x_1 \\frac{A}{R} - \\frac{1}{2} \\frac{x_0^2 A^2}{R} - \\frac{1}{2} log 2\\pi R -\\frac{1}{2} \\frac{A^2}{P} - \\frac{1}{2} log|2 \\pi P| -(v+1) logR - \\frac{v}{\\beta} \\frac{1}{R} - log \\Gamma(v) + v log(v/\\beta) \\\\\n",
    "& = & -\\frac{1}{2} \\frac{x_1^2}{R} + x_0 x_1 \\frac{A}{R} - \\frac{1}{2} \\frac{x_0^2 A^2}{R} - \\frac{1}{2} logR - \\frac{1}{2} \\frac{A^2}{P} -(v+1) logR - \\frac{v}{\\beta} \\frac{1}{R} + C\n",
    "\\end{eqnarray}\n",
    "\n",
    "\\\\\n",
    "\n",
    "<img src='FG2.png' style='width:600px'>\n"
   ]
  },
  {
   "cell_type": "code",
   "execution_count": 37,
   "metadata": {
    "collapsed": false
   },
   "outputs": [
    {
     "name": "stdout",
     "output_type": "stream",
     "text": [
      "-0.3704347574553939\n",
      "0.05483471954102366\n"
     ]
    }
   ],
   "source": [
    "import matplotlib.pyplot as plt\n",
    "import numpy as np\n",
    "\n",
    "nu = 0.4\n",
    "beta = 100\n",
    "nu_beta = nu/beta\n",
    "\n",
    "P = 1.2\n",
    "x_0 = 1\n",
    "x_1 = -6\n",
    "\n",
    "T = 300 # Number of iterations\n",
    "E_A = -6\n",
    "E_A2 = E_A^2\n",
    "E_invR = 1/0.00001 # Initial Sufficient stats\n",
    "\n",
    "A = np.random.normal(0, P, 100)\n",
    "R = nu_beta / np.random.gamma(shape=nu, size = 100)\n",
    "\n",
    "for t in range(2,T):\n",
    "    # Update q(A)\n",
    "    Sig = 1/(1/P + x_0**2*E_invR)\n",
    "    mu = Sig*x_0*x_1*E_invR\n",
    "    E_A = mu\n",
    "    E_A2 = mu**2 + Sig\n",
    "\n",
    "    # Update q(R)\n",
    "    a = nu+0.5\n",
    "    b = 0.5*(x_1**2 - 2*x_1*x_0*E_A + x_0**2*E_A2) + nu_beta\n",
    "    E_invR = a/b\n",
    "\n",
    "print(E_A)\n",
    "print(E_invR)"
   ]
  }
 ],
 "metadata": {
  "anaconda-cloud": {},
  "kernelspec": {
   "display_name": "Python [conda root]",
   "language": "python",
   "name": "conda-root-py"
  },
  "language_info": {
   "codemirror_mode": {
    "name": "ipython",
    "version": 3
   },
   "file_extension": ".py",
   "mimetype": "text/x-python",
   "name": "python",
   "nbconvert_exporter": "python",
   "pygments_lexer": "ipython3",
   "version": "3.5.2"
  }
 },
 "nbformat": 4,
 "nbformat_minor": 2
}
