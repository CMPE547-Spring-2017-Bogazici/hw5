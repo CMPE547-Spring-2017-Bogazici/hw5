{
 "cells": [
  {
   "cell_type": "code",
   "execution_count": 1,
   "metadata": {
    "collapsed": true
   },
   "outputs": [],
   "source": [
    "import pandas as pd\n",
    "import numpy as np\n",
    "import math\n",
    "import scipy.special as sps\n",
    "from matplotlib import colors, ticker, cm\n",
    "from matplotlib.mlab import bivariate_normal\n",
    "from IPython.display import Image\n",
    "from IPython.core.display import HTML "
   ]
  },
  {
   "cell_type": "code",
   "execution_count": 2,
   "metadata": {
    "collapsed": false
   },
   "outputs": [
    {
     "data": {
      "text/html": [
       "<img src=\"graphical.jpg\"/>"
      ],
      "text/plain": [
       "<IPython.core.display.Image object>"
      ]
     },
     "execution_count": 2,
     "metadata": {},
     "output_type": "execute_result"
    }
   ],
   "source": [
    "#Graphical Model\n",
    "Image(url= \"graphical.jpg\")"
   ]
  },
  {
   "cell_type": "code",
   "execution_count": 3,
   "metadata": {
    "collapsed": false
   },
   "outputs": [
    {
     "data": {
      "text/html": [
       "<img src=\"factor.jpg\"/>"
      ],
      "text/plain": [
       "<IPython.core.display.Image object>"
      ]
     },
     "execution_count": 3,
     "metadata": {},
     "output_type": "execute_result"
    }
   ],
   "source": [
    "#Factor Graph\n",
    "Image(url= \"factor.jpg\")"
   ]
  },
  {
   "cell_type": "code",
   "execution_count": 4,
   "metadata": {
    "collapsed": false
   },
   "outputs": [
    {
     "data": {
      "text/html": [
       "<img src=\"full_joint.jpg\"/>"
      ],
      "text/plain": [
       "<IPython.core.display.Image object>"
      ]
     },
     "execution_count": 4,
     "metadata": {},
     "output_type": "execute_result"
    }
   ],
   "source": [
    "#derivation of full joint distribution and individual factors\n",
    "Image(url= \"full_joint.jpg\")"
   ]
  },
  {
   "cell_type": "code",
   "execution_count": 5,
   "metadata": {
    "collapsed": false
   },
   "outputs": [
    {
     "data": {
      "text/html": [
       "<img src=\"conditional_1.jpg\"/>"
      ],
      "text/plain": [
       "<IPython.core.display.Image object>"
      ]
     },
     "execution_count": 5,
     "metadata": {},
     "output_type": "execute_result"
    }
   ],
   "source": [
    "#q(A)\n",
    "Image(url= \"conditional_1.jpg\")"
   ]
  },
  {
   "cell_type": "code",
   "execution_count": 6,
   "metadata": {
    "collapsed": false
   },
   "outputs": [
    {
     "data": {
      "text/html": [
       "<img src=\"conditional_2.jpg\"/>"
      ],
      "text/plain": [
       "<IPython.core.display.Image object>"
      ]
     },
     "execution_count": 6,
     "metadata": {},
     "output_type": "execute_result"
    }
   ],
   "source": [
    "#q(R)\n",
    "Image(url= \"conditional_2.jpg\")"
   ]
  },
  {
   "cell_type": "code",
   "execution_count": 7,
   "metadata": {
    "collapsed": true
   },
   "outputs": [],
   "source": [
    "nu = 0.4\n",
    "beta = 100\n",
    "P = 1.2\n",
    "T = 1000\n",
    "x_0 = 1.0\n",
    "x_1 = -6.0\n",
    "E_A = -100.0\n",
    "E_A2 = E_A*E_A\n",
    "E_invR = 100.0"
   ]
  },
  {
   "cell_type": "code",
   "execution_count": 8,
   "metadata": {
    "collapsed": false
   },
   "outputs": [
    {
     "data": {
      "image/png": "[encoded data removed]",
      "text/plain": [
       "<matplotlib.figure.Figure at 0x10eb2ba90>"
      ]
     },
     "metadata": {},
     "output_type": "display_data"
    }
   ],
   "source": [
    "#Contour Plot\n",
    "import numpy as np\n",
    "import matplotlib.pyplot as plt\n",
    "x = np.arange(-8.,8.,0.1)\n",
    "y = np.arange(-4.,4.,0.1)\n",
    "y = np.power(10.,y)\n",
    "A, R = np.meshgrid(x,y)\n",
    "Z = np.exp(-0.5*x_1*x_1/R + x_0*x_1*A/R - 0.5*x_0*x_0*A*A/R - 0.5*np.log(2*np.pi*R))*np.exp(-0.5*A*A/P - 0.5*np.log(np.abs(2*np.pi*P)))*np.exp(-(nu+1)*np.log(R) - nu/(beta*R) - sps.gamma(nu) + nu*np.log(nu/beta))\n",
    "plt.figure(figsize=(16,10))\n",
    "cp = plt.contourf(A, R, Z, cmap=plt.cm.jet)\n",
    "plt.colorbar(cp)\n",
    "plt.title('Filled Contours Plot')\n",
    "plt.xlabel('A')\n",
    "plt.yscale('log')\n",
    "plt.ylabel('R')\n",
    "plt.show()"
   ]
  },
  {
   "cell_type": "code",
   "execution_count": 9,
   "metadata": {
    "collapsed": true
   },
   "outputs": [],
   "source": [
    "#Implementation of EM algorithm to find MAP estimates of A and R\n",
    "for t in range(2,T):\n",
    "    sig = 1/(1/P + x_0*x_0*E_invR)\n",
    "    mu = sig*x_0*x_1*E_invR\n",
    "    E_A = mu\n",
    "    E_A2 = mu*mu + sig\n",
    "    a = nu + 0.5\n",
    "    b = 0.5*(x_1*x_1 - 2*x_1*x_0*E_A + x_0*x_0*E_A2) + nu/beta\n",
    "    E_invR = a/b"
   ]
  },
  {
   "cell_type": "code",
   "execution_count": 10,
   "metadata": {
    "collapsed": false
   },
   "outputs": [
    {
     "data": {
      "text/plain": [
       "-0.3704347574553939"
      ]
     },
     "execution_count": 10,
     "metadata": {},
     "output_type": "execute_result"
    }
   ],
   "source": [
    "E_A"
   ]
  },
  {
   "cell_type": "code",
   "execution_count": 11,
   "metadata": {
    "collapsed": false
   },
   "outputs": [
    {
     "data": {
      "text/plain": [
       "0.05483471954102366"
      ]
     },
     "execution_count": 11,
     "metadata": {},
     "output_type": "execute_result"
    }
   ],
   "source": [
    "E_invR"
   ]
  },
  {
   "cell_type": "code",
   "execution_count": 12,
   "metadata": {
    "collapsed": false
   },
   "outputs": [],
   "source": [
    "nu = 0.4\n",
    "beta = 100\n",
    "P = 1.2\n",
    "x_0 = 1.0\n",
    "x_1 = -6.0\n",
    "T = 1000\n",
    "R = np.zeros((1,1000))\n",
    "A = np.zeros((1,1000))"
   ]
  },
  {
   "cell_type": "code",
   "execution_count": 13,
   "metadata": {
    "collapsed": false
   },
   "outputs": [],
   "source": [
    "A[0][0] = -6\n",
    "R[0][0] = 0.00001"
   ]
  },
  {
   "cell_type": "code",
   "execution_count": 14,
   "metadata": {
    "collapsed": false
   },
   "outputs": [],
   "source": [
    "#implementation of ICM\n",
    "for t in range(1,T):\n",
    "    sig = 1/(1/P + np.power(x_0,2)*(1.0/R[0][t-1]))\n",
    "    mu = sig*x_0*x_1*(1/R[0][t-1])\n",
    "    A[0][t] = math.sqrt(sig)*np.random.normal() + mu;\n",
    "    b = 0.5*(np.power(x_1,2) - 2*x_1*x_0*A[0][t] + np.power(x_0,2)*np.power(A[0][t],2)) + nu/beta\n",
    "    R[0][t] = 1/(np.random.gamma(nu+0.5, 1/b));"
   ]
  },
  {
   "cell_type": "code",
   "execution_count": 15,
   "metadata": {
    "collapsed": false
   },
   "outputs": [
    {
     "data": {
      "image/png": "[encoded data removed]",
      "text/plain": [
       "<matplotlib.figure.Figure at 0x10f30e850>"
      ]
     },
     "metadata": {},
     "output_type": "display_data"
    }
   ],
   "source": [
    "from matplotlib import pyplot\n",
    "%matplotlib inline\n",
    "import math\n",
    "pyplot.scatter(A,R)\n",
    "\n",
    "pyplot.yscale('log')\n",
    "pyplot.xlim([-8,6])\n",
    "pyplot.ylim([0.0001,100000])\n",
    "pyplot.show()"
   ]
  }
 ],
 "metadata": {
  "kernelspec": {
   "display_name": "Python [default]",
   "language": "python",
   "name": "python2"
  },
  "language_info": {
   "codemirror_mode": {
    "name": "ipython",
    "version": 2
   },
   "file_extension": ".py",
   "mimetype": "text/x-python",
   "name": "python",
   "nbconvert_exporter": "python",
   "pygments_lexer": "ipython2",
   "version": "2.7.13"
  }
 },
 "nbformat": 4,
 "nbformat_minor": 2
}
