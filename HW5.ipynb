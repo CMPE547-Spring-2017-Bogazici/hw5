{
 "cells": [
  {
   "cell_type": "markdown",
   "metadata": {},
   "source": [
    "## HW 5\n",
    "Sevgi Ozturk\n",
    "\n",
    "### Part I\n",
    "\n",
    "Consider the following model\n",
    "\n",
    "\\begin{align}\n",
    "A \\sim \\mathcal{N}(A; 0, 1.2) \\\\\n",
    "R \\sim \\mathcal{IG}(R; 0.4, 250) \\\\\n",
    "x_k | x_{k-1} \\sim \\mathcal{N}(x_k;Ax_{k-1},R)\n",
    "\\end{align}\n",
    "\n",
    "#### Draw the directed graphical model and the factor graph.\n",
    "<img src = \"./DGM.png\" height=\"800\" width=\"800\"/>\n",
    "<img src = \"./FG.png\" height=\"600\" width=\"600\"/>\n",
    "\n",
    "#### Write the expression for the full joint distribution and assign terms to the individual factors on the factor graph.\n",
    "\n",
    "\\begin{eqnarray}\n",
    "\\phi = p(A,R,x_1=\\hat x_1,x_0=\\hat x_0) \\propto p(x_1|x_o,A,R)p(A)p(R) = p(x_1,A,R|x_0) \\\\\n",
    "\\phi = \\mathcal{N}(x_k;Ax_{k-1},R)\\mathcal{N}(A; 0, 1.2)\\mathcal{IG}(R; 0.4, 250) \\\\\n",
    "\\phi = exp(-\\frac{1}2 \\frac{x_1^2}R + x_ox_1\\frac{A}R-\\frac{1}2\\frac{x_0^2A^2}R-\\frac{1}2log2 \\pi R)exp(-\\frac{A^2}2.4-\\frac{1}2log2.4 \\pi )exp(-1.4logR-\\frac{250}R-log\\Gamma (0.4)+0.4log250) \\\\\n",
    "\\phi_A = exp(-\\frac{A^2}{2P}) = exp(-\\frac{A^2}{2.4})\\\\\n",
    "\\phi_R = exp(-\\frac{1}2 \\frac{x_1^2}R-\\frac{logR}2-(\\mathcal{v}+1)logR-\\frac{\\mathcal{v}}{\\beta R}) = exp(- (\\mathcal{v}+1+\\frac{1}2)logR-\\left( \\frac{v}\\beta+\\frac{x_1^2}2 \\right)\\frac{1}R)\\\\\n",
    "\\phi_{X_oX_1AR} = exp(x_ox_1\\frac{A}R-\\frac{1}2 \\frac{x_o^2A^2}R)\n",
    "\\end{eqnarray}\n",
    "\n",
    "#### Derive the joint distribution p(A,R,x_o=1,x_1=-6) and create contour plot.\n",
    "\\begin{eqnarray}\n",
    "\\phi = exp(-\\frac{1}2 \\frac{x_1^2}R + x_ox_1\\frac{A}R-\\frac{1}2\\frac{x_0^2A^2}R-\\frac{1}2log2 \\pi R)exp(-\\frac{A^2}2.4-\\frac{1}2log2.4 \\pi )exp(-1.4logR-\\frac{250}R-log\\Gamma (0.4)+0.4log250) \\\\\n",
    "log\\phi = -\\frac{1}2 \\frac{x_1^2}R + x_ox_1\\frac{A}R-\\frac{1}2\\frac{x_0^2A^2}R-\\frac{1}2log2 \\pi R -\\frac{A^2}2.4-\\frac{1}2log2.4 \\pi -1.4logR-\\frac{250}R-log\\Gamma (0.4)+0.4log250) \\\\\n",
    "log\\phi = -\\frac{1}2 \\frac{(-6)^2}R + 1(-6)\\frac{A}R-\\frac{1}2\\frac{1^2A^2}R-\\frac{1}2log2 \\pi R -\\frac{A^2}2.4-\\frac{1}2log2.4 \\pi -1.4logR-\\frac{250}R-log\\Gamma (0.4)+0.4log250) \\\\\n",
    "\\end{eqnarray}\n",
    "\n",
    "### Part II\n",
    "\\begin{align}\n",
    "A \\sim \\mathcal{N}(A; 0, P) \\\\\n",
    "R \\sim \\mathcal{IG}(R; \\mathcal{v}, \\frac{\\mathcal{v}}\\beta) \\\\\n",
    "x_k | x_{k-1} \\sim \\mathcal{N}(x_k;Ax_{k-1},R)\n",
    "\\end{align}\n",
    "\n",
    "#### Derive and implement an EM algorithm to find the MAP estimate\n",
    "\\begin{align}\n",
    "R^* = argmax  p(R|x_o,x_1,\\theta)\n",
    "\\end{align}\n",
    "\n",
    "\\begin{eqnarray}\n",
    "KL(q(R|x_0,x_1) || p(R|x_0,x_1,\\theta) = \\int q(R|x_0,x_1) log \\frac{q(R|x_0,x_2)}p(R|x_0,x_1) \\\\\n",
    "KL(q(R|x_0,x_1) || p(R|x_0,x_1,\\theta) = \\bigg \\langle log(q(R|x_0,x_1))\\bigg \\rangle_{q(R|x_0,x_1)} - \\bigg \\langle log(p(R|x_0,x_1))\\bigg \\rangle_{q(R|x_0,x_1)}\\\\\n",
    "\\end{eqnarray}\n",
    "Second term is the energy term and we're trying to maximize this.\n",
    "EM has two steps\\\\\n",
    "E step : fix parameters, find distributions \n",
    "\\begin{eqnarray}\n",
    "q(R) \\propto exp(\\big \\langle log(\\phi_{x_0x_1AR})_{q(A)} \\big \\rangle)\n",
    "= exp(-\\frac{A^2}{2.4} + x_ox_1\\frac{A}R-\\frac{1}2 \\frac{x_o^2A^2}R)\n",
    "\\end{eqnarray}\n",
    "M step : fix q(R), find parameters \n",
    "\n",
    "Same is true for :\n",
    "\\begin{eqnarray}\n",
    "q(A) \\propto exp(\\big \\langle log(\\phi_{x_0x_1AR})_{q(R)} \\big \\rangle)=exp(- (\\mathcal{v}+1+\\frac{1}2)logR-\\left( \\frac{v}\\beta+\\frac{x_1^2}2 \\right)\\frac{1}R + x_ox_1\\frac{A}R-\\frac{1}2 \\frac{x_o^2A^2}R)\n",
    "\\end{eqnarray}"
   ]
  },
  {
   "cell_type": "code",
   "execution_count": null,
   "metadata": {
    "collapsed": false
   },
   "outputs": [],
   "source": []
  }
 ],
 "metadata": {
  "kernelspec": {
   "display_name": "Python 3",
   "language": "python",
   "name": "python3"
  },
  "language_info": {
   "codemirror_mode": {
    "name": "ipython",
    "version": 3
   },
   "file_extension": ".py",
   "mimetype": "text/x-python",
   "name": "python",
   "nbconvert_exporter": "python",
   "pygments_lexer": "ipython3",
   "version": "3.6.0"
  }
 },
 "nbformat": 4,
 "nbformat_minor": 2
}
